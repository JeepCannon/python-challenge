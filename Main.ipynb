{
 "cells": [
  {
   "cell_type": "code",
   "execution_count": 12,
   "id": "fae043c1-a972-4e30-9bb9-a8890fa8e2fe",
   "metadata": {},
   "outputs": [],
   "source": [
    "import pandas as pd\n",
    "from pathlib import Path"
   ]
  },
  {
   "cell_type": "code",
   "execution_count": 13,
   "id": "4048f661-22e8-4df5-9f12-f57bb908b23a",
   "metadata": {},
   "outputs": [],
   "source": [
    "Budget_Data_path = Path('budget_data.csv')"
   ]
  },
  {
   "cell_type": "code",
   "execution_count": 85,
   "id": "0a8049fb-fb21-47ef-9077-c67c1317a009",
   "metadata": {},
   "outputs": [
    {
     "data": {
      "text/plain": [
       "Profit/Losses    int64\n",
       "dtype: object"
      ]
     },
     "execution_count": 85,
     "metadata": {},
     "output_type": "execute_result"
    }
   ],
   "source": [
    "budget_df = pd.read_csv(Budget_Data_path,index_col='Date', parse_dates=True, infer_datetime_format=True)\n",
    "#budget_df = pd.read_csv(Budget_Data_path)\n",
    "budget_df.index\n",
    "budget_df\n",
    "budget_df.dtypes"
   ]
  },
  {
   "cell_type": "code",
   "execution_count": 86,
   "id": "828b2106-067f-4f52-b886-82d88fccb722",
   "metadata": {},
   "outputs": [
    {
     "name": "stdout",
     "output_type": "stream",
     "text": [
      "Total number of Months :  87\n"
     ]
    }
   ],
   "source": [
    "file_path = r\"budget_data.csv\"\n",
    "\n",
    "#2\n",
    "lines_count = 0\n",
    "\n",
    "#3\n",
    "with open(file_path,'r') as f:\n",
    "  #4\n",
    "  for l in f:\n",
    "    #5\n",
    "    lines_count = lines_count +1\n",
    "\n",
    "#6\n",
    "print(\"Total number of Months : \",lines_count)"
   ]
  },
  {
   "cell_type": "code",
   "execution_count": 87,
   "id": "7409d00b-3a28-4c65-bf43-a88dbd0f667d",
   "metadata": {},
   "outputs": [
    {
     "name": "stdout",
     "output_type": "stream",
     "text": [
      "38382578.0\n"
     ]
    }
   ],
   "source": [
    "FloatTotal = budget_df[\"Profit/Losses\"].sum().astype('float')\n",
    "print(FloatTotal)\n"
   ]
  },
  {
   "cell_type": "code",
   "execution_count": 88,
   "id": "f7781509-a9bd-4e74-85cd-4ca8df460e74",
   "metadata": {},
   "outputs": [
    {
     "name": "stdout",
     "output_type": "stream",
     "text": [
      "Total: $38382578.0\n"
     ]
    }
   ],
   "source": [
    "TextTotal = FloatTotal.sum().astype('str')\n",
    "print(\"Total: $\"+ TextTotal)"
   ]
  },
  {
   "cell_type": "code",
   "execution_count": 89,
   "id": "52f1dd56-c502-49df-b687-ef4bf9b48c66",
   "metadata": {},
   "outputs": [
    {
     "name": "stdout",
     "output_type": "stream",
     "text": [
      "Profit/Losses    Average Monthly Change: $446309.0465116279\n",
      "dtype: object\n"
     ]
    }
   ],
   "source": [
    "budget_data_mean = budget_df.groupby([budget_df.index.year, budget_df.index.month]).mean()\n",
    "TextMean =  budget_data_mean.mean().astype('str')\n",
    "print(\"Average Monthly Change: $\"+ TextMean)"
   ]
  },
  {
   "cell_type": "code",
   "execution_count": 125,
   "id": "854dc18d-677c-471d-a4aa-e2f3b851426a",
   "metadata": {},
   "outputs": [
    {
     "name": "stdout",
     "output_type": "stream",
     "text": [
      "Greatest Increase in Profits totaled: $\n",
      "1170593\n",
      "Occured: 02/01/2012\n"
     ]
    }
   ],
   "source": [
    "#budget_df.max()\n",
    "\n",
    "max_index =  budget_df[\"Profit/Losses\"].idxmax()\n",
    "#print(max_index)\n",
    "max_value =  budget_df[\"Profit/Losses\"].max()\n",
    "print(\"Greatest Increase in Profits totaled: $\")\n",
    "print(max_value)\n",
    "\n",
    "date_time = max_index.strftime(\"%m/%d/%Y\")\n",
    "print(\"Occured:\",date_time)"
   ]
  },
  {
   "cell_type": "code",
   "execution_count": 126,
   "id": "ac118cf0-58be-4544-8047-e25034c03c45",
   "metadata": {},
   "outputs": [
    {
     "name": "stdout",
     "output_type": "stream",
     "text": [
      "Greatest Decrease in Profits totaled: $\n",
      "-1196225\n",
      "Occured: 09/01/2013\n"
     ]
    }
   ],
   "source": [
    "min_index =  budget_df[\"Profit/Losses\"].idxmin()\n",
    "#print(max_index)\n",
    "min_value =  budget_df[\"Profit/Losses\"].min()\n",
    "print(\"Greatest Decrease in Profits totaled: $\")\n",
    "print(min_value)\n",
    "\n",
    "date_time = min_index.strftime(\"%m/%d/%Y\")\n",
    "print(\"Occured:\",date_time)\n",
    "\n"
   ]
  },
  {
   "cell_type": "code",
   "execution_count": 127,
   "id": "30dcafdc-06d7-4094-8782-1c76d46fe3d8",
   "metadata": {},
   "outputs": [
    {
     "name": "stdout",
     "output_type": "stream",
     "text": [
      "Total number of Months :  87\n",
      "Total: $38382578.0\n",
      "Profit/Losses    Average Monthly Change: $446309.0465116279\n",
      "dtype: object\n",
      "Greatest Increase in Profits totaled: $\n",
      "1170593\n",
      "Occured: 09/01/2013\n",
      "Greatest Decrease in Profits totaled: $\n",
      "-1196225\n",
      "Occured: 09/01/2013\n"
     ]
    }
   ],
   "source": [
    "print(\"Total number of Months : \",lines_count)\n",
    "print(\"Total: $\"+ TextTotal)\n",
    "\n",
    "print(\"Average Monthly Change: $\"+ TextMean)\n",
    "\n",
    "print(\"Greatest Increase in Profits totaled: $\")\n",
    "print(max_value)\n",
    "print(\"Occured:\",date_time)\n",
    "\n",
    "print(\"Greatest Decrease in Profits totaled: $\")\n",
    "print(min_value)\n",
    "print(\"Occured:\",date_time)"
   ]
  }
 ],
 "metadata": {
  "kernelspec": {
   "display_name": "Python 3 (ipykernel)",
   "language": "python",
   "name": "python3"
  },
  "language_info": {
   "codemirror_mode": {
    "name": "ipython",
    "version": 3
   },
   "file_extension": ".py",
   "mimetype": "text/x-python",
   "name": "python",
   "nbconvert_exporter": "python",
   "pygments_lexer": "ipython3",
   "version": "3.7.15"
  }
 },
 "nbformat": 4,
 "nbformat_minor": 5
}
