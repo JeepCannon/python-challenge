{
 "cells": [
  {
   "cell_type": "code",
   "execution_count": 12,
   "id": "fae043c1-a972-4e30-9bb9-a8890fa8e2fe",
   "metadata": {},
   "outputs": [],
   "source": [
    "import pandas as pd\n",
    "from pathlib import Path"
   ]
  },
  {
   "cell_type": "code",
   "execution_count": 13,
   "id": "4048f661-22e8-4df5-9f12-f57bb908b23a",
   "metadata": {},
   "outputs": [],
   "source": [
    "Budget_Data_path = Path('budget_data.csv')"
   ]
  },
  {
   "cell_type": "code",
   "execution_count": 85,
   "id": "0a8049fb-fb21-47ef-9077-c67c1317a009",
   "metadata": {},
   "outputs": [
    {
     "data": {
      "text/plain": [
       "Profit/Losses    int64\n",
       "dtype: object"
      ]
     },
     "execution_count": 85,
     "metadata": {},
     "output_type": "execute_result"
    }
   ],
   "source": [
    "budget_df = pd.read_csv(Budget_Data_path,index_col='Date', parse_dates=True, infer_datetime_format=True)\n",
    "#budget_df = pd.read_csv(Budget_Data_path)\n",
    "budget_df.index\n",
    "budget_df\n",
    "budget_df.dtypes"
   ]
  },
  {
   "cell_type": "code",
   "execution_count": 86,
   "id": "828b2106-067f-4f52-b886-82d88fccb722",
   "metadata": {},
   "outputs": [
    {
     "name": "stdout",
     "output_type": "stream",
     "text": [
      "Total number of Months :  87\n"
     ]
    }
   ],
   "source": [
    "file_path = r\"budget_data.csv\"\n",
    "\n",
    "#2\n",
    "lines_count = 0\n",
    "\n",
    "#3\n",
    "with open(file_path,'r') as f:\n",
    "  #4\n",
    "  for l in f:\n",
    "    #5\n",
    "    lines_count = lines_count +1\n",
    "\n",
    "#6\n",
    "print(\"Total number of Months : \",lines_count)"
   ]
  },
  {
   "cell_type": "code",
   "execution_count": 87,
   "id": "7409d00b-3a28-4c65-bf43-a88dbd0f667d",
   "metadata": {},
   "outputs": [
    {
     "name": "stdout",
     "output_type": "stream",
     "text": [
      "38382578.0\n"
     ]
    }
   ],
   "source": [
    "FloatTotal = budget_df[\"Profit/Losses\"].sum().astype('float')\n",
    "print(FloatTotal)\n"
   ]
  },
  {
   "cell_type": "code",
   "execution_count": 88,
   "id": "f7781509-a9bd-4e74-85cd-4ca8df460e74",
   "metadata": {},
   "outputs": [
    {
     "name": "stdout",
     "output_type": "stream",
     "text": [
      "Total: $38382578.0\n"
     ]
    }
   ],
   "source": [
    "TextTotal = FloatTotal.sum().astype('str')\n",
    "print(\"Total: $\"+ TextTotal)"
   ]
  },
  {
   "cell_type": "code",
   "execution_count": 89,
   "id": "52f1dd56-c502-49df-b687-ef4bf9b48c66",
   "metadata": {},
   "outputs": [
    {
     "name": "stdout",
     "output_type": "stream",
     "text": [
      "Profit/Losses    Average Monthly Change: $446309.0465116279\n",
      "dtype: object\n"
     ]
    }
   ],
   "source": [
    "budget_data_mean = budget_df.groupby([budget_df.index.year, budget_df.index.month]).mean()\n",
    "TextMean =  budget_data_mean.mean().astype('str')\n",
    "print(\"Average Monthly Change: $\"+ TextMean)"
   ]
  },
  {
   "cell_type": "code",
   "execution_count": 125,
   "id": "854dc18d-677c-471d-a4aa-e2f3b851426a",
   "metadata": {},
   "outputs": [
    {
     "name": "stdout",
     "output_type": "stream",
     "text": [
      "Greatest Increase in Profits totaled: $\n",
      "1170593\n",
      "Occured: 02/01/2012\n"
     ]
    }
   ],
   "source": [
    "#budget_df.max()\n",
    "\n",
    "max_index =  budget_df[\"Profit/Losses\"].idxmax()\n",
    "#print(max_index)\n",
    "max_value =  budget_df[\"Profit/Losses\"].max()\n",
    "print(\"Greatest Increase in Profits totaled: $\")\n",
    "print(max_value)\n",
    "\n",
    "date_time = max_index.strftime(\"%m/%d/%Y\")\n",
    "print(\"Occured:\",date_time)"
   ]
  },
  {
   "cell_type": "code",
   "execution_count": 126,
   "id": "ac118cf0-58be-4544-8047-e25034c03c45",
   "metadata": {},
   "outputs": [
    {
     "name": "stdout",
     "output_type": "stream",
     "text": [
      "Greatest Decrease in Profits totaled: $\n",
      "-1196225\n",
      "Occured: 09/01/2013\n"
     ]
    }
   ],
   "source": [
    "min_index =  budget_df[\"Profit/Losses\"].idxmin()\n",
    "#print(max_index)\n",
    "min_value =  budget_df[\"Profit/Losses\"].min()\n",
    "print(\"Greatest Decrease in Profits totaled: $\")\n",
    "print(min_value)\n",
    "\n",
    "date_time = min_index.strftime(\"%m/%d/%Y\")\n",
    "print(\"Occured:\",date_time)\n",
    "\n"
   ]
  },
  {
   "cell_type": "code",
   "execution_count": 127,
   "id": "30dcafdc-06d7-4094-8782-1c76d46fe3d8",
   "metadata": {},
   "outputs": [
    {
     "name": "stdout",
     "output_type": "stream",
     "text": [
      "Total number of Months :  87\n",
      "Total: $38382578.0\n",
      "Profit/Losses    Average Monthly Change: $446309.0465116279\n",
      "dtype: object\n",
      "Greatest Increase in Profits totaled: $\n",
      "1170593\n",
      "Occured: 09/01/2013\n",
      "Greatest Decrease in Profits totaled: $\n",
      "-1196225\n",
      "Occured: 09/01/2013\n"
     ]
    }
   ],
   "source": [
    "print(\"Total number of Months : \",lines_count)\n",
    "print(\"Total: $\"+ TextTotal)\n",
    "\n",
    "print(\"Average Monthly Change: $\"+ TextMean)\n",
    "\n",
    "print(\"Greatest Increase in Profits totaled: $\")\n",
    "print(max_value)\n",
    "print(\"Occured:\",date_time)\n",
    "\n",
    "print(\"Greatest Decrease in Profits totaled: $\")\n",
    "print(min_value)\n",
    "print(\"Occured:\",date_time)"
   ]
  },
  {
   "cell_type": "code",
   "execution_count": 129,
   "id": "ba8fc3db-6bfe-4bb6-83dd-fafcbedfd627",
   "metadata": {},
   "outputs": [
    {
     "ename": "ValueError",
     "evalue": "Unknown format code 'f' for object of type 'str'",
     "output_type": "error",
     "traceback": [
      "\u001b[1;31m------------------------------------------------------------------------\u001b[0m",
      "\u001b[1;31mValueError\u001b[0m                             Traceback (most recent call last)",
      "\u001b[1;32m~\\AppData\\Local\\Temp\\ipykernel_504\\563517891.py\u001b[0m in \u001b[0;36m<module>\u001b[1;34m\u001b[0m\n\u001b[0;32m      1\u001b[0m \u001b[1;31m# Both combined along with the currency symbol(in this case $)\u001b[0m\u001b[1;33m\u001b[0m\u001b[1;33m\u001b[0m\u001b[1;33m\u001b[0m\u001b[0m\n\u001b[1;32m----> 2\u001b[1;33m \u001b[0mcurrency_string\u001b[0m \u001b[1;33m=\u001b[0m \u001b[1;34m\"${:,.2f}\"\u001b[0m\u001b[1;33m.\u001b[0m\u001b[0mformat\u001b[0m\u001b[1;33m(\u001b[0m\u001b[1;34m\"Profit/Losses_category\"\u001b[0m\u001b[1;33m)\u001b[0m\u001b[1;33m\u001b[0m\u001b[1;33m\u001b[0m\u001b[0m\n\u001b[0m\u001b[0;32m      3\u001b[0m \u001b[0mprint\u001b[0m\u001b[1;33m(\u001b[0m\u001b[0mcurrency_string\u001b[0m\u001b[1;33m)\u001b[0m\u001b[1;33m\u001b[0m\u001b[1;33m\u001b[0m\u001b[0m\n",
      "\u001b[1;31mValueError\u001b[0m: Unknown format code 'f' for object of type 'str'"
     ]
    }
   ],
   "source": []
  },
  {
   "cell_type": "code",
   "execution_count": null,
   "id": "bfdcb2b6-121e-4ce8-a48f-566f8d513558",
   "metadata": {},
   "outputs": [],
   "source": []
  },
  {
   "cell_type": "code",
   "execution_count": 93,
   "id": "95786279-dc00-4221-b81f-620b26e105de",
   "metadata": {},
   "outputs": [
    {
     "name": "stdout",
     "output_type": "stream",
     "text": [
      "Date\n",
      "2010-01-01    867884\n",
      "2010-02-01    984655\n",
      "2010-03-01    322013\n",
      "2010-04-01    -69417\n",
      "2010-05-01    310503\n",
      "               ...  \n",
      "2016-10-01    102685\n",
      "2016-11-01    795914\n",
      "2016-12-01     60988\n",
      "2017-01-01    138230\n",
      "2017-02-01    671099\n",
      "Name: Profit/Losses, Length: 86, dtype: int64\n"
     ]
    }
   ],
   "source": []
  },
  {
   "cell_type": "code",
   "execution_count": null,
   "id": "14b82e49-af1c-4134-9088-dc49da629f00",
   "metadata": {},
   "outputs": [],
   "source": []
  },
  {
   "cell_type": "code",
   "execution_count": 91,
   "id": "bf7c2668-a2a3-4525-b04a-a64cf0fa62fb",
   "metadata": {},
   "outputs": [
    {
     "data": {
      "text/plain": [
       "446309.0465116279"
      ]
     },
     "execution_count": 91,
     "metadata": {},
     "output_type": "execute_result"
    }
   ],
   "source": []
  },
  {
   "cell_type": "code",
   "execution_count": null,
   "id": "c5f07066-351e-4f8a-a8e2-22f711b71e7c",
   "metadata": {},
   "outputs": [],
   "source": []
  },
  {
   "cell_type": "code",
   "execution_count": 47,
   "id": "05bfab33-0551-4d75-8d98-e943223257e3",
   "metadata": {},
   "outputs": [],
   "source": []
  },
  {
   "cell_type": "code",
   "execution_count": 20,
   "id": "5cc14331-bb81-4cf0-bcc7-97f1514dc1ff",
   "metadata": {},
   "outputs": [
    {
     "data": {
      "text/plain": [
       "DatetimeIndex(['2010-01-01', '2010-02-01', '2010-03-01', '2010-04-01',\n",
       "               '2010-05-01', '2010-06-01', '2010-07-01', '2010-08-01',\n",
       "               '2010-09-01', '2010-10-01', '2010-11-01', '2010-12-01',\n",
       "               '2011-01-01', '2011-02-01', '2011-03-01', '2011-04-01',\n",
       "               '2011-05-01', '2011-06-01', '2011-07-01', '2011-08-01',\n",
       "               '2011-09-01', '2011-10-01', '2011-11-01', '2011-12-01',\n",
       "               '2012-01-01', '2012-02-01', '2012-03-01', '2012-04-01',\n",
       "               '2012-05-01', '2012-06-01', '2012-07-01', '2012-08-01',\n",
       "               '2012-09-01', '2012-10-01', '2012-11-01', '2012-12-01',\n",
       "               '2013-01-01', '2013-02-01', '2013-03-01', '2013-04-01',\n",
       "               '2013-05-01', '2013-06-01', '2013-07-01', '2013-08-01',\n",
       "               '2013-09-01', '2013-10-01', '2013-11-01', '2013-12-01',\n",
       "               '2014-01-01', '2014-02-01', '2014-03-01', '2014-04-01',\n",
       "               '2014-05-01', '2014-06-01', '2014-07-01', '2014-08-01',\n",
       "               '2014-09-01', '2014-10-01', '2014-11-01', '2014-12-01',\n",
       "               '2015-01-01', '2015-02-01', '2015-03-01', '2015-04-01',\n",
       "               '2015-05-01', '2015-06-01', '2015-07-01', '2015-08-01',\n",
       "               '2015-09-01', '2015-10-01', '2015-11-01', '2015-12-01',\n",
       "               '2016-01-01', '2016-02-01', '2016-03-01', '2016-04-01',\n",
       "               '2016-05-01', '2016-06-01', '2016-07-01', '2016-08-01',\n",
       "               '2016-09-01', '2016-10-01', '2016-11-01', '2016-12-01',\n",
       "               '2017-01-01', '2017-02-01'],\n",
       "              dtype='datetime64[ns]', name='Date', freq=None)"
      ]
     },
     "execution_count": 20,
     "metadata": {},
     "output_type": "execute_result"
    }
   ],
   "source": []
  },
  {
   "cell_type": "code",
   "execution_count": 21,
   "id": "324c4615-a4df-4a41-a18f-39d10b4efa95",
   "metadata": {},
   "outputs": [],
   "source": []
  },
  {
   "cell_type": "code",
   "execution_count": null,
   "id": "52173029-5cec-4fec-a31a-2804443dbbd0",
   "metadata": {},
   "outputs": [
    {
     "ename": "NameError",
     "evalue": "name 'budget_data_mth' is not defined",
     "output_type": "error",
     "traceback": [
      "\u001b[1;31m------------------------------------------------------------------------\u001b[0m",
      "\u001b[1;31mNameError\u001b[0m                              Traceback (most recent call last)",
      "\u001b[1;32m~\\AppData\\Local\\Temp\\ipykernel_18424\\1777095830.py\u001b[0m in \u001b[0;36m<module>\u001b[1;34m\u001b[0m\n\u001b[1;32m----> 1\u001b[1;33m \u001b[0mbudget_data_mth\u001b[0m\u001b[1;33m.\u001b[0m\u001b[0mvalue_counts\u001b[0m\u001b[1;33m(\u001b[0m\u001b[1;33m)\u001b[0m\u001b[1;33m\u001b[0m\u001b[1;33m\u001b[0m\u001b[0m\n\u001b[0m",
      "\u001b[1;31mNameError\u001b[0m: name 'budget_data_mth' is not defined"
     ]
    }
   ],
   "source": []
  },
  {
   "cell_type": "code",
   "execution_count": null,
   "id": "ee8b7eab-4c7e-407a-a1f3-5ecc17a87070",
   "metadata": {},
   "outputs": [],
   "source": []
  }
 ],
 "metadata": {
  "kernelspec": {
   "display_name": "Python 3 (ipykernel)",
   "language": "python",
   "name": "python3"
  },
  "language_info": {
   "codemirror_mode": {
    "name": "ipython",
    "version": 3
   },
   "file_extension": ".py",
   "mimetype": "text/x-python",
   "name": "python",
   "nbconvert_exporter": "python",
   "pygments_lexer": "ipython3",
   "version": "3.7.15"
  }
 },
 "nbformat": 4,
 "nbformat_minor": 5
}
